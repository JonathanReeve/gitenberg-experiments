{
 "cells": [
  {
   "cell_type": "markdown",
   "metadata": {},
   "source": [
    "# My metadata notebook"
   ]
  },
  {
   "cell_type": "code",
   "execution_count": 2,
   "metadata": {
    "collapsed": true
   },
   "outputs": [],
   "source": [
    "import pandas as pd"
   ]
  },
  {
   "cell_type": "code",
   "execution_count": 4,
   "metadata": {},
   "outputs": [],
   "source": [
    "df = pd.read_hdf('pg-metadata-rdf.hdf')"
   ]
  },
  {
   "cell_type": "code",
   "execution_count": 7,
   "metadata": {},
   "outputs": [
    {
     "data": {
      "text/plain": [
       "0                                                        {}\n",
       "1         {'text/html': 'http://www.gutenberg.org/ebooks...\n",
       "2         {'text/html': 'http://www.gutenberg.org/files/...\n",
       "3         {'text/html': 'http://www.gutenberg.org/files/...\n",
       "4         {'text/html': 'http://www.gutenberg.org/files/...\n",
       "5         {'text/plain': 'http://www.gutenberg.org/ebook...\n",
       "6         {'text/html': 'http://www.gutenberg.org/files/...\n",
       "7         {'text/html': 'http://www.gutenberg.org/files/...\n",
       "8         {'text/html; charset=us-ascii': 'http://www.gu...\n",
       "9         {'text/plain; charset=us-ascii': 'http://www.g...\n",
       "10        {'text/plain; charset=us-ascii': 'http://www.g...\n",
       "11        {'text/plain; charset=utf-8': 'http://www.gute...\n",
       "12        {'text/plain; charset=utf-8': 'http://www.gute...\n",
       "13        {'text/html; charset=utf-8': 'http://www.guten...\n",
       "14        {'text/html': 'http://www.gutenberg.org/ebooks...\n",
       "15        {'text/html': 'http://www.gutenberg.org/ebooks...\n",
       "16        {'text/html; charset=utf-8': 'http://www.guten...\n",
       "17        {'application/x-mobipocket-ebook': 'http://www...\n",
       "18        {'text/html': 'http://www.gutenberg.org/ebooks...\n",
       "19        {'application/x-mobipocket-ebook': 'http://www...\n",
       "20        {'text/html': 'http://www.gutenberg.org/ebooks...\n",
       "21        {'text/plain; charset=utf-8': 'http://www.gute...\n",
       "22        {'text/html': 'http://www.gutenberg.org/ebooks...\n",
       "23        {'text/html; charset=us-ascii': 'http://www.gu...\n",
       "24        {'text/plain; charset=utf-8': 'http://www.gute...\n",
       "25        {'text/html': 'http://www.gutenberg.org/ebooks...\n",
       "26        {'text/html': 'http://www.gutenberg.org/ebooks...\n",
       "27        {'text/html': 'http://www.gutenberg.org/ebooks...\n",
       "28        {'text/html': 'http://www.gutenberg.org/ebooks...\n",
       "29        {'text/html': 'http://www.gutenberg.org/ebooks...\n",
       "                                ...                        \n",
       "54376     {'image/jpeg': 'http://www.gutenberg.org/cache...\n",
       "54377     {'image/jpeg': 'http://www.gutenberg.org/cache...\n",
       "54378     {'image/jpeg': 'http://www.gutenberg.org/cache...\n",
       "54379     {'text/html': 'http://www.gutenberg.org/ebooks...\n",
       "54380     {'image/jpeg': 'http://www.gutenberg.org/cache...\n",
       "54381     {'image/jpeg': 'http://www.gutenberg.org/cache...\n",
       "54382     {'text/html': 'http://www.gutenberg.org/ebooks...\n",
       "54383     {'image/jpeg': 'http://www.gutenberg.org/cache...\n",
       "54384     {'image/jpeg': 'http://www.gutenberg.org/cache...\n",
       "54385     {'text/html': 'http://www.gutenberg.org/ebooks...\n",
       "54386     {'image/jpeg': 'http://www.gutenberg.org/cache...\n",
       "54387     {'image/jpeg': 'http://www.gutenberg.org/cache...\n",
       "54388     {'image/jpeg': 'http://www.gutenberg.org/cache...\n",
       "54389     {'image/jpeg': 'http://www.gutenberg.org/cache...\n",
       "54390     {'text/html': 'http://www.gutenberg.org/ebooks...\n",
       "54391     {'image/jpeg': 'http://www.gutenberg.org/cache...\n",
       "54392     {'image/jpeg': 'http://www.gutenberg.org/cache...\n",
       "54393     {'image/jpeg': 'http://www.gutenberg.org/cache...\n",
       "54394     {'image/jpeg': 'http://www.gutenberg.org/cache...\n",
       "54395     {'text/html': 'http://www.gutenberg.org/ebooks...\n",
       "54396     {'image/jpeg': 'http://www.gutenberg.org/cache...\n",
       "54397     {'text/html; charset=iso-8859-1': 'http://www....\n",
       "54398     {'text/html': 'http://www.gutenberg.org/ebooks...\n",
       "54404     {'image/jpeg': 'http://www.gutenberg.org/cache...\n",
       "54405     {'image/jpeg': 'http://www.gutenberg.org/cache...\n",
       "54406     {'image/jpeg': 'http://www.gutenberg.org/cache...\n",
       "54407     {'image/jpeg': 'http://www.gutenberg.org/cache...\n",
       "54408     {'text/html': 'http://www.gutenberg.org/ebooks...\n",
       "54409     {'image/jpeg': 'http://www.gutenberg.org/cache...\n",
       "999999                                                   {}\n",
       "Name: formats, dtype: object"
      ]
     },
     "execution_count": 7,
     "metadata": {},
     "output_type": "execute_result"
    }
   ],
   "source": [
    "df.T['formats']"
   ]
  },
  {
   "cell_type": "code",
   "execution_count": null,
   "metadata": {
    "collapsed": true
   },
   "outputs": [],
   "source": []
  }
 ],
 "metadata": {
  "kernelspec": {
   "display_name": "Python 3",
   "language": "python",
   "name": "python3"
  },
  "language_info": {
   "codemirror_mode": {
    "name": "ipython",
    "version": 3
   },
   "file_extension": ".py",
   "mimetype": "text/x-python",
   "name": "python",
   "nbconvert_exporter": "python",
   "pygments_lexer": "ipython3",
   "version": "3.6.0"
  }
 },
 "nbformat": 4,
 "nbformat_minor": 2
}
