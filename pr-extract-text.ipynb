{
 "cells": [
  {
   "cell_type": "code",
   "execution_count": 1,
   "metadata": {
    "collapsed": true
   },
   "outputs": [],
   "source": [
    "import pandas as pd\n",
    "import glob\n",
    "import os\n",
    "import gutenberg\n",
    "from gutenberg.cleanup import strip_headers\n",
    "import sqlite3 as sql\n",
    "from ast import literal_eval"
   ]
  },
  {
   "cell_type": "code",
   "execution_count": 2,
   "metadata": {
    "collapsed": false
   },
   "outputs": [],
   "source": [
    "conn = sql.connect('pg-pr-eng.db')\n",
    "c = conn.cursor()"
   ]
  },
  {
   "cell_type": "code",
   "execution_count": 3,
   "metadata": {
    "collapsed": false
   },
   "outputs": [],
   "source": [
    "df = pd.read_sql('select * from pg', conn)"
   ]
  },
  {
   "cell_type": "code",
   "execution_count": 84,
   "metadata": {
    "collapsed": false
   },
   "outputs": [],
   "source": [
    "def getText(filename): \n",
    "    if filename is not None and filename != \"None\": \n",
    "        if os.path.isfile(filename): \n",
    "            print('Loading %s' % filename, end='\\r')\n",
    "            try: \n",
    "                text = open(filename).read()\n",
    "            except: \n",
    "                text = open(filename, encoding='latin-1').read()\n",
    "            return text\n",
    "        else: \n",
    "            print(\"Couldn't find %s\" % filename, end='\\r')\n",
    "            return None\n",
    "    else: \n",
    "        return None"
   ]
  },
  {
   "cell_type": "code",
   "execution_count": 89,
   "metadata": {
    "collapsed": false
   },
   "outputs": [
    {
     "name": "stdout",
     "output_type": "stream",
     "text": [
      "6963ing /run/media/jon/SAMSUNG/gutenberg-mirror/5/1/4/5/51455/51455.txtTale-of-the-Royal-Navy-of-To-day_46441/46441.txteur-de-Rohaine_46345/46345.txtxt\r"
     ]
    }
   ],
   "source": [
    "for i, row in df.iterrows(): \n",
    "    if row.filename is not None and row.filename != \"None\":\n",
    "        # Use Gitenberg file if available. \n",
    "        filename = row.filename\n",
    "    elif row.gutFilename is not None and row.gutFilename != \"None\":\n",
    "        filename = row.gutFilename\n",
    "    bookID = row.id\n",
    "    text = getText(filename)\n",
    "    print(row['index'], end='\\r')\n",
    "    c.execute('update pg set \"text\" = ? where \"id\" == ?', [text, bookID])"
   ]
  },
  {
   "cell_type": "code",
   "execution_count": null,
   "metadata": {
    "collapsed": false
   },
   "outputs": [
    {
     "name": "stdout",
     "output_type": "stream",
     "text": [
      "6258\r"
     ]
    }
   ],
   "source": [
    "for i, row in df.iterrows(): \n",
    "    if row.text is not None and row.text != \"None\":\n",
    "        text = strip_headers(row.text)\n",
    "    bookID = row.id\n",
    "    print(row['index'], end='\\r')\n",
    "    c.execute('update pg set \"text_cleaned\" = ? where \"id\" == ?', [text, bookID])"
   ]
  },
  {
   "cell_type": "code",
   "execution_count": 9,
   "metadata": {
    "collapsed": false
   },
   "outputs": [],
   "source": [
    "conn.commit()"
   ]
  },
  {
   "cell_type": "code",
   "execution_count": null,
   "metadata": {
    "collapsed": true
   },
   "outputs": [],
   "source": [
    "i"
   ]
  },
  {
   "cell_type": "code",
   "execution_count": null,
   "metadata": {
    "collapsed": false
   },
   "outputs": [
    {
     "name": "stderr",
     "output_type": "stream",
     "text": [
      "/usr/lib/python3.6/site-packages/pandas/core/generic.py:1201: UserWarning: The spaces in these column names will not be changed. In pandas versions < 0.14, spaces were converted to underscores.\n",
      "  chunksize=chunksize, dtype=dtype)\n"
     ]
    }
   ],
   "source": [
    "df.to_sql('pg', conn, if_exists='replace')"
   ]
  },
  {
   "cell_type": "code",
   "execution_count": null,
   "metadata": {
    "collapsed": true
   },
   "outputs": [],
   "source": []
  }
 ],
 "metadata": {
  "kernelspec": {
   "display_name": "Python 3",
   "language": "python",
   "name": "python3"
  },
  "language_info": {
   "codemirror_mode": {
    "name": "ipython",
    "version": 3
   },
   "file_extension": ".py",
   "mimetype": "text/x-python",
   "name": "python",
   "nbconvert_exporter": "python",
   "pygments_lexer": "ipython3",
   "version": "3.6.0"
  }
 },
 "nbformat": 4,
 "nbformat_minor": 2
}
